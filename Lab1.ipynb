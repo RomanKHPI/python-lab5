{
  "metadata": {
    "language_info": {
      "name": ""
    },
    "kernelspec": {
      "name": "python",
      "display_name": "Python (Pyodide)",
      "language": "python"
    }
  },
  "nbformat_minor": 4,
  "nbformat": 4,
  "cells": [
    {
      "cell_type": "markdown",
      "source": "# ГАЙАНА",
      "metadata": {}
    },
    {
      "cell_type": "markdown",
      "source": "## Загальна інформація про Гайану",
      "metadata": {}
    },
    {
      "cell_type": "markdown",
      "source": "<span style=\"color:green\">\nПлощина - 214 969 км²\n</span>",
      "metadata": {}
    },
    {
      "cell_type": "markdown",
      "source": "<span style=\"color:purple\">\nНаселення - 804 567 тисячі\n</span>",
      "metadata": {}
    },
    {
      "cell_type": "markdown",
      "source": "## Державний устрій Гайани",
      "metadata": {}
    },
    {
      "cell_type": "markdown",
      "source": "<div style=\"border: black; border-width:2px; border-style:solid;\"> Державний устрій Гайани - парламентарна республіка з \nпредставницькою демократією.</div>",
      "metadata": {}
    },
    {
      "cell_type": "markdown",
      "source": "## Культура і видатні діячи Гайани",
      "metadata": {}
    },
    {
      "cell_type": "markdown",
      "source": "<li>Архітектурні пам'ятки Гайани\n<ul>\n<li><a href=\"https://ru.wikipedia.org/wiki/Собор_Святого_Георгия_(Джорджтаун)\"> Собор святого Георгія, Гайана </a></li>\n<li><a href=\"https://ru.wikipedia.org/wiki/Ратуша_Джорджтауна\"> Ратуша Джорджтауна, Гайана </a></li>\n<li><a href=\"https://ru.wikipedia.org/wiki/Национальный_музей_Гайаны\"> Національний музей Гайани, Гайана </a></li>\n</ul>\n</li>",
      "metadata": {}
    },
    {
      "cell_type": "markdown",
      "source": "### Видатні діячі Гайани",
      "metadata": {}
    },
    {
      "cell_type": "markdown",
      "source": "<table width=\"600\" border=\"1\">\n    <tr>\n        <th>Діяч</th>\n        <th>Фотографія</th>\n        <th>Опис</th>\n    </tr>\n    <tr>\n        <td>Чедвік Жагео</td>\n        <td><img src=\"cheddi.jpg\"></td>\n        <td>Чедвік Жагео був політиком і національним героєм Гайани. \n        Жагео був одним з провідних фігурантів боротьби за незалежність \n        Гайани від британського колоніального володаря. Він займав \n        посаду президента Гайани з 1992 року до своєї смерті у 1997 році.\n        </td>\n    </tr>\n        <tr>\n            <td>Уолтер Родні Черк</td>\n            <td><img src=\"walter.jpg\"></td>\n            <td>Уолтер Родні Черк був відомим істориком, активістом і \n            політичним діячем Гайани. Черк активно виступав проти режиму\n            Форбса Бернхама, президента Гайани в період 1966-1980 років. \n            Він написав книгу \"How Europe Underdeveloped Africa\" і був \n            визнаний впливовою фігурою в боротьбі за соціальну \n            справедливість та деколонізацію. Він загинув у 1980 році \n            внаслідок автомобільної вибухової пастки, що була \n            встановлена режимом Бернхама.\n            </td>\n    </tr>\n        </tr>\n        <tr>\n        <td>Мартін Картер</td>\n        <td><img src=\"karter.jpg\"></td>\n        <td>Мартін Карртер - письменник і поет, який народився в Гайані.\n        Він відомий своїми поетичними збірками, есе та романами, в яких \n        висловлює важливі соціальні та політичні питання. Його твори\n        отримали широке визнання та були перекладені на багато мов.\n        </td>\n    </tr>\n</table>         ",
      "metadata": {}
    },
    {
      "cell_type": "markdown",
      "source": "## Природа Гайани",
      "metadata": {}
    },
    {
      "cell_type": "markdown",
      "source": "![Guyana](https://visaindex.s3-accelerate.amazonaws.com/wp-content/uploads/2023/05/08172002/Guyana.webp)\n",
      "metadata": {}
    },
    {
      "cell_type": "markdown",
      "source": "![lenivets-15](https://photy.co/files/img/photo/lenivets/lenivets-15.webp)\n",
      "metadata": {}
    },
    {
      "cell_type": "markdown",
      "source": "![Guyana-South-America-Awamie-Mountain](https://worldlyadventurer.com/wp-content/uploads/2020/04/Guyana-South-America-Awamie-Mountain-1024x768.jpg.webp)\n",
      "metadata": {}
    },
    {
      "cell_type": "markdown",
      "source": "## Прапор Гайани у форматі SVG",
      "metadata": {}
    },
    {
      "cell_type": "markdown",
      "source": "![Flag_of_Guyana.svg.png](attachment:40b32252-85cf-4cd4-afd0-7ed36a8e4697.png)",
      "metadata": {},
      "attachments": {
        "40b32252-85cf-4cd4-afd0-7ed36a8e4697.png": {
          "image/png": "[encoded data removed]"
        }
      }
    },
    {
      "cell_type": "code",
      "source": "def task_3():\n    numbers = input(\"Введіть список цілих чисел, розділених пробілами: \").split()\n    numbers = [int(num) for num in numbers]\n\n    sorted_numbers = sorted(numbers)\n\n    middle_index = len(sorted_numbers) // 2\n    if len(sorted_numbers) % 2 == 0:\n        middle_elements = (sorted_numbers[middle_index - 1], sorted_numbers[middle_index])\n    else:\n        middle_elements = sorted_numbers[middle_index]\n\n    print(f\"Результат: {middle_elements} - це середина відсортованого списку\")\n\ntask_3()",
      "metadata": {},
      "execution_count": null,
      "outputs": []
    }
  ]
}